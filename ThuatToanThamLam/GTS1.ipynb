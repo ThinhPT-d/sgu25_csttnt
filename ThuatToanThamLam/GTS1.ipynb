{
 "cells": [
  {
   "cell_type": "markdown",
   "id": "a79438b8",
   "metadata": {},
   "source": [
    "Bắt đầu"
   ]
  },
  {
   "cell_type": "code",
   "execution_count": 7,
   "id": "ad80de87",
   "metadata": {},
   "outputs": [
    {
     "name": "stdout",
     "output_type": "stream",
     "text": [
      "Số thành phố (n): 6\n",
      "Chi phí nhỏ nhất: 56\n"
     ]
    }
   ],
   "source": [
    "import sys\n",
    "\n",
    "INF = float('inf')\n",
    "\n",
    "# Giải bài toán TSP bằng Quy hoạch động + Bitmask\n",
    "def tsp(mask, pos):\n",
    "    if mask == (1 << n) - 1:\n",
    "        return cost[pos][0]  # Quay về điểm xuất phát\n",
    "\n",
    "    if dp[mask][pos] != -1:\n",
    "        return dp[mask][pos]\n",
    "\n",
    "    ans = INF\n",
    "    for city in range(n):\n",
    "        if (mask & (1 << city)) == 0:  # Nếu chưa đi qua thành phố này\n",
    "            newAns = cost[pos][city] + tsp(mask | (1 << city), city)\n",
    "            ans = min(ans, newAns)\n",
    "\n",
    "    dp[mask][pos] = ans\n",
    "    return ans\n",
    "\n",
    "try:\n",
    "    with open(\"GTS1a.txt\", \"r\") as file:\n",
    "        # Dòng đầu tiên: gồm 2 giá trị (n và m)\n",
    "        line1 = file.readline().split()\n",
    "        n = int(line1[0])\n",
    "        m = int(line1[1])  # Bạn có thể dùng nếu cần, ví dụ để in ra\n",
    "\n",
    "        # Đọc ma trận chi phí kích thước n x n\n",
    "        cost = []\n",
    "        for _ in range(n):\n",
    "            row = list(map(int, file.readline().split()))\n",
    "            cost.append(row)\n",
    "except Exception as e:\n",
    "    print(\"Lỗi khi đọc file:\", e)\n",
    "    sys.exit(1)\n",
    "\n",
    "# Khởi tạo bảng nhớ dp\n",
    "dp = [[-1] * n for _ in range(1 << n)]\n",
    "\n",
    "# Gọi thuật toán từ thành phố 0\n",
    "minCost = tsp(1, 0)\n",
    "\n",
    "print(\"Số thành phố (n):\", n)\n",
    "print(\"Chi phí nhỏ nhất:\", minCost)\n"
   ]
  },
  {
   "cell_type": "markdown",
   "id": "26651068",
   "metadata": {},
   "source": [
    "Kết thúc"
   ]
  }
 ],
 "metadata": {
  "kernelspec": {
   "display_name": "base",
   "language": "python",
   "name": "python3"
  },
  "language_info": {
   "codemirror_mode": {
    "name": "ipython",
    "version": 3
   },
   "file_extension": ".py",
   "mimetype": "text/x-python",
   "name": "python",
   "nbconvert_exporter": "python",
   "pygments_lexer": "ipython3",
   "version": "3.12.7"
  }
 },
 "nbformat": 4,
 "nbformat_minor": 5
}
