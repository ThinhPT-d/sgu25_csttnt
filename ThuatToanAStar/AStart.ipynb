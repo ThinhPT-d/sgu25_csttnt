{
 "cells": [
  {
   "cell_type": "markdown",
   "metadata": {},
   "source": [
    "Bắt đầu"
   ]
  },
  {
   "cell_type": "code",
   "execution_count": 4,
   "metadata": {},
   "outputs": [
    {
     "name": "stdout",
     "output_type": "stream",
     "text": [
      "Đường đi ngắn nhất: 1 238 262 456\n",
      "Tổng trọng số: 41\n"
     ]
    }
   ],
   "source": [
    "import heapq\n",
    "import sys\n",
    "\n",
    "def read_graph_from_file(filename):\n",
    "    with open(filename, 'r') as file:\n",
    "        n, m = map(int, file.readline().split())\n",
    "        s, t = map(int, file.readline().split())\n",
    "        \n",
    "        graph = {i: [] for i in range(1, n + 1)}\n",
    "        \n",
    "        for _ in range(m):\n",
    "            u, v, w = map(int, file.readline().split())\n",
    "            graph[u].append((v, w))\n",
    "            graph[v].append((u, w))  # Nếu là đồ thị vô hướng\n",
    "        \n",
    "        heuristic = list(map(int, file.readline().split()))\n",
    "        heuristic.insert(0, 0)  # Để chỉ số bắt đầu từ 1\n",
    "        \n",
    "    return n, m, s, t, graph, heuristic\n",
    "\n",
    "def a_star(n, s, t, graph, heuristic):\n",
    "    pq = []\n",
    "    heapq.heappush(pq, (heuristic[s], 0, s))  # (f, g, node)\n",
    "    \n",
    "    g = {i: float('inf') for i in range(1, n + 1)}\n",
    "    g[s] = 0\n",
    "    \n",
    "    parent = {i: -1 for i in range(1, n + 1)}\n",
    "    \n",
    "    while pq:\n",
    "        _, cost, u = heapq.heappop(pq)\n",
    "        \n",
    "        if u == t:\n",
    "            break\n",
    "        \n",
    "        for v, weight in graph[u]:\n",
    "            new_g = cost + weight\n",
    "            if new_g < g[v]:\n",
    "                g[v] = new_g\n",
    "                parent[v] = u\n",
    "                heapq.heappush(pq, (new_g + heuristic[v], new_g, v))\n",
    "    \n",
    "    path = []\n",
    "    node = t\n",
    "    while node != -1:\n",
    "        path.append(node)\n",
    "        node = parent[node]\n",
    "    path.reverse()\n",
    "    \n",
    "    if path[0] != s:\n",
    "        return [], -1\n",
    "    return path, g[t]\n",
    "\n",
    "if __name__ == \"__main__\":\n",
    "    filename = \"graph4.txt\"\n",
    "    n, m, s, t, graph, heuristic = read_graph_from_file(filename)\n",
    "    path, total_weight = a_star(n, s, t, graph, heuristic)\n",
    "    \n",
    "    if not path:\n",
    "        print(\"Không tìm thấy đường đi.\")\n",
    "    else:\n",
    "        print(\"Đường đi ngắn nhất:\", \" \".join(map(str, path)))\n",
    "        print(\"Tổng trọng số:\", total_weight)\n"
   ]
  },
  {
   "cell_type": "markdown",
   "metadata": {},
   "source": [
    "Kết thúc"
   ]
  }
 ],
 "metadata": {
  "kernelspec": {
   "display_name": "base",
   "language": "python",
   "name": "python3"
  },
  "language_info": {
   "codemirror_mode": {
    "name": "ipython",
    "version": 3
   },
   "file_extension": ".py",
   "mimetype": "text/x-python",
   "name": "python",
   "nbconvert_exporter": "python",
   "pygments_lexer": "ipython3",
   "version": "3.12.7"
  }
 },
 "nbformat": 4,
 "nbformat_minor": 2
}
