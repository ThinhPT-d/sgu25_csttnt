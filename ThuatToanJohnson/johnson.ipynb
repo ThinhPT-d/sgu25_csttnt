{
 "cells": [
  {
   "cell_type": "markdown",
   "id": "ffb10c7b",
   "metadata": {},
   "source": [
    "Bắt dầu"
   ]
  },
  {
   "cell_type": "code",
   "execution_count": 10,
   "id": "7b15e72b",
   "metadata": {},
   "outputs": [
    {
     "name": "stdout",
     "output_type": "stream",
     "text": [
      "Thứ tự gia công tối ưu:\n",
      "Job 319 -> Job 21 -> Job 45 -> Job 211 -> Job 238 -> Job 50 -> Job 324 -> Job 240 -> Job 377 -> Job 172 -> Job 333 -> Job 230 -> Job 309 -> Job 452 -> Job 72 -> Job 90 -> Job 148 -> Job 312 -> Job 497 -> Job 487 -> Job 439 -> Job 198 -> Job 480 -> Job 335 -> Job 518 -> Job 203 -> Job 133 -> Job 107 -> Job 57 -> Job 182 -> Job 400 -> Job 308 -> Job 236 -> Job 19 -> Job 263 -> Job 352 -> Job 531 -> Job 75 -> Job 254 -> Job 102 -> Job 506 -> Job 127 -> Job 160 -> Job 290 -> Job 332 -> Job 431 -> Job 303 -> Job 225 -> Job 14 -> Job 362 -> Job 85 -> Job 224 -> Job 514 -> Job 354 -> Job 223 -> Job 253 -> Job 11 -> Job 112 -> Job 445 -> Job 40 -> Job 125 -> Job 217 -> Job 280 -> Job 147 -> Job 98 -> Job 175 -> Job 478 -> Job 364 -> Job 373 -> Job 227 -> Job 318 -> Job 70 -> Job 264 -> Job 220 -> Job 496 -> Job 449 -> Job 30 -> Job 105 -> Job 86 -> Job 284 -> Job 82 -> Job 226 -> Job 358 -> Job 46 -> Job 174 -> Job 78 -> Job 76 -> Job 392 -> Job 8 -> Job 474 -> Job 266 -> Job 426 -> Job 341 -> Job 28 -> Job 49 -> Job 26 -> Job 5 -> Job 379 -> Job 505 -> Job 245 -> Job 498 -> Job 425 -> Job 35 -> Job 116 -> Job 59 -> Job 199 -> Job 173 -> Job 406 -> Job 6 -> Job 337 -> Job 84 -> Job 417 -> Job 92 -> Job 150 -> Job 183 -> Job 228 -> Job 2 -> Job 357 -> Job 9 -> Job 7 -> Job 176 -> Job 359 -> Job 503 -> Job 189 -> Job 446 -> Job 73 -> Job 141 -> Job 270 -> Job 4 -> Job 454 -> Job 306 -> Job 468 -> Job 142 -> Job 517 -> Job 97 -> Job 229 -> Job 128 -> Job 136 -> Job 114 -> Job 450 -> Job 143 -> Job 257 -> Job 83 -> Job 111 -> Job 504 -> Job 71 -> Job 441 -> Job 294 -> Job 120 -> Job 443 -> Job 51 -> Job 188 -> Job 99 -> Job 109 -> Job 385 -> Job 167 -> Job 256 -> Job 297 -> Job 490 -> Job 428 -> Job 391 -> Job 368 -> Job 258 -> Job 515 -> Job 467 -> Job 16 -> Job 272 -> Job 13 -> Job 495 -> Job 460 -> Job 314 -> Job 378 -> Job 146 -> Job 424 -> Job 249 -> Job 287 -> Job 100 -> Job 77 -> Job 451 -> Job 293 -> Job 162 -> Job 234 -> Job 244 -> Job 482 -> Job 248 -> Job 410 -> Job 68 -> Job 288 -> Job 355 -> Job 322 -> Job 131 -> Job 396 -> Job 420 -> Job 501 -> Job 508 -> Job 187 -> Job 522 -> Job 348 -> Job 390 -> Job 155 -> Job 394 -> Job 343 -> Job 289 -> Job 527 -> Job 39 -> Job 438 -> Job 296 -> Job 412 -> Job 365 -> Job 464 -> Job 239 -> Job 435 -> Job 461 -> Job 316 -> Job 466 -> Job 447 -> Job 96 -> Job 313 -> Job 301 -> Job 275 -> Job 302 -> Job 243 -> Job 24 -> Job 484 -> Job 331 -> Job 1 -> Job 60 -> Job 321 -> Job 416 -> Job 340 -> Job 130 -> Job 180 -> Job 384 -> Job 493 -> Job 3 -> Job 152 -> Job 330 -> Job 139 -> Job 380 -> Job 101 -> Job 63 -> Job 231 -> Job 350 -> Job 491 -> Job 205 -> Job 184 -> Job 437 -> Job 448 -> Job 507 -> Job 344 -> Job 530 -> Job 27 -> Job 185 -> Job 398 -> Job 192 -> Job 255 -> Job 477 -> Job 526 -> Job 17 -> Job 79 -> Job 43 -> Job 409 -> Job 421 -> Job 260 -> Job 407 -> Job 104 -> Job 510 -> Job 22 -> Job 177 -> Job 387 -> Job 366 -> Job 108 -> Job 232 -> Job 52 -> Job 523 -> Job 197 -> Job 286 -> Job 18 -> Job 413 -> Job 422 -> Job 201 -> Job 94 -> Job 178 -> Job 15 -> Job 274 -> Job 237 -> Job 382 -> Job 168 -> Job 520 -> Job 171 -> Job 347 -> Job 432 -> Job 511 -> Job 81 -> Job 399 -> Job 317 -> Job 221 -> Job 402 -> Job 115 -> Job 300 -> Job 469 -> Job 209 -> Job 371 -> Job 405 -> Job 93 -> Job 271 -> Job 320 -> Job 455 -> Job 140 -> Job 299 -> Job 163 -> Job 31 -> Job 463 -> Job 408 -> Job 181 -> Job 475 -> Job 307 -> Job 208 -> Job 525 -> Job 360 -> Job 134 -> Job 149 -> Job 367 -> Job 513 -> Job 456 -> Job 427 -> Job 519 -> Job 453 -> Job 165 -> Job 222 -> Job 67 -> Job 54 -> Job 277 -> Job 473 -> Job 386 -> Job 329 -> Job 164 -> Job 206 -> Job 204 -> Job 268 -> Job 279 -> Job 66 -> Job 470 -> Job 200 -> Job 419 -> Job 430 -> Job 190 -> Job 53 -> Job 194 -> Job 323 -> Job 433 -> Job 74 -> Job 486 -> Job 283 -> Job 214 -> Job 47 -> Job 95 -> Job 418 -> Job 278 -> Job 12 -> Job 137 -> Job 252 -> Job 265 -> Job 119 -> Job 151 -> Job 113 -> Job 401 -> Job 532 -> Job 346 -> Job 123 -> Job 10 -> Job 193 -> Job 91 -> Job 381 -> Job 117 -> Job 351 -> Job 246 -> Job 509 -> Job 247 -> Job 327 -> Job 298 -> Job 459 -> Job 336 -> Job 494 -> Job 375 -> Job 304 -> Job 485 -> Job 159 -> Job 415 -> Job 349 -> Job 465 -> Job 282 -> Job 361 -> Job 250 -> Job 462 -> Job 154 -> Job 25 -> Job 397 -> Job 186 -> Job 512 -> Job 471 -> Job 325 -> Job 38 -> Job 33 -> Job 196 -> Job 372 -> Job 328 -> Job 305 -> Job 267 -> Job 492 -> Job 311 -> Job 216 -> Job 144 -> Job 157 -> Job 374 -> Job 411 -> Job 339 -> Job 80 -> Job 356 -> Job 161 -> Job 166 -> Job 219 -> Job 138 -> Job 529 -> Job 489 -> Job 145 -> Job 524 -> Job 235 -> Job 48 -> Job 457 -> Job 158 -> Job 363 -> Job 210 -> Job 89 -> Job 414 -> Job 376 -> Job 126 -> Job 32 -> Job 315 -> Job 429 -> Job 292 -> Job 389 -> Job 58 -> Job 516 -> Job 207 -> Job 122 -> Job 41 -> Job 132 -> Job 483 -> Job 20 -> Job 273 -> Job 528 -> Job 34 -> Job 521 -> Job 215 -> Job 170 -> Job 87 -> Job 88 -> Job 55 -> Job 500 -> Job 156 -> Job 326 -> Job 476 -> Job 502 -> Job 488 -> Job 121 -> Job 404 -> Job 129 -> Job 44 -> Job 436 -> Job 110 -> Job 269 -> Job 241 -> Job 295 -> Job 383 -> Job 262 -> Job 458 -> Job 285 -> Job 135 -> Job 213 -> Job 169 -> Job 64 -> Job 369 -> Job 281 -> Job 191 -> Job 338 -> Job 499 -> Job 444 -> Job 56 -> Job 479 -> Job 345 -> Job 233 -> Job 259 -> Job 218 -> Job 291 -> Job 334 -> Job 62 -> Job 212 -> Job 179 -> Job 440 -> Job 434 -> Job 261 -> Job 37 -> Job 195 -> Job 69 -> Job 370 -> Job 23 -> Job 481 -> Job 388 -> Job 124 -> Job 29 -> Job 393 -> Job 61 -> Job 472 -> Job 423 -> Job 202 -> Job 310 -> Job 118 -> Job 395 -> Job 65 -> Job 42 -> Job 342 -> Job 353 -> Job 153 -> Job 106 -> Job 242 -> Job 276 -> Job 403 -> Job 251 -> Job 442 -> Job 103 -> Job 36 -> Hoàn thành\n",
      "Tổng thời gian hoàn thành: 257578\n"
     ]
    }
   ],
   "source": [
    "from typing import List\n",
    "\n",
    "class Job:\n",
    "    def __init__(self, job_id, time1, time2):\n",
    "        self.id = job_id\n",
    "        self.time1 = time1\n",
    "        self.time2 = time2\n",
    "\n",
    "def compare(job):\n",
    "    return min(job.time1, job.time2)\n",
    "\n",
    "def johnson_algorithm(jobs: List[Job]):\n",
    "    # Sắp xếp theo quy tắc Johnson\n",
    "    jobs_sorted = sorted(jobs, key=compare)\n",
    "\n",
    "    first, second = [], []\n",
    "    for job in jobs_sorted:\n",
    "        if job.time1 < job.time2:\n",
    "            first.append(job)\n",
    "        else:\n",
    "            second.insert(0, job)  # chèn vào đầu để đảo ngược\n",
    "\n",
    "    optimal_order = first + second\n",
    "\n",
    "    # In kết quả\n",
    "    print(\"Thứ tự gia công tối ưu:\")\n",
    "    print(\" -> \".join(f\"Job {job.id}\" for job in optimal_order) + \" -> Hoàn thành\")\n",
    "\n",
    "    # Tính tổng thời gian hoàn thành (Makespan)\n",
    "    time_machine1 = 0\n",
    "    time_machine2 = 0\n",
    "    for job in optimal_order:\n",
    "        time_machine1 += job.time1\n",
    "        time_machine2 = max(time_machine1, time_machine2) + job.time2\n",
    "\n",
    "    print(f\"Tổng thời gian hoàn thành: {time_machine2}\")\n",
    "\n",
    "# === Đọc dữ liệu từ file ===\n",
    "try:\n",
    "    with open(\"Johnsond.txt\", \"r\") as f:\n",
    "        n = int(f.readline().strip())\n",
    "        jobs = []\n",
    "        time1s = list(map(int, f.readline().strip().split()))  # Đọc thời gian máy 1\n",
    "        time2s = list(map(int, f.readline().strip().split()))  # Đọc thời gian máy 2\n",
    "        \n",
    "        # Tạo danh sách công việc\n",
    "        for i in range(n):\n",
    "            jobs.append(Job(i + 1, time1s[i], time2s[i]))\n",
    "except FileNotFoundError:\n",
    "    print(\"Không thể mở file Johnsona.txt!\")\n",
    "    exit(1)\n",
    "except ValueError as e:\n",
    "    print(\"Lỗi dữ liệu:\", e)\n",
    "    exit(1)\n",
    "\n",
    "# === Gọi thuật toán Johnson ===\n",
    "johnson_algorithm(jobs)\n"
   ]
  },
  {
   "cell_type": "markdown",
   "id": "607c8d82",
   "metadata": {},
   "source": [
    "kết thúc"
   ]
  }
 ],
 "metadata": {
  "kernelspec": {
   "display_name": "base",
   "language": "python",
   "name": "python3"
  },
  "language_info": {
   "codemirror_mode": {
    "name": "ipython",
    "version": 3
   },
   "file_extension": ".py",
   "mimetype": "text/x-python",
   "name": "python",
   "nbconvert_exporter": "python",
   "pygments_lexer": "ipython3",
   "version": "3.12.7"
  }
 },
 "nbformat": 4,
 "nbformat_minor": 5
}
